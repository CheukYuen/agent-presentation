{
 "cells": [
  {
   "cell_type": "markdown",
   "metadata": {
    "vscode": {
     "languageId": "raw"
    }
   },
   "source": [
    "# Tool Use 基础教程\n",
    "\n",
    "## 学习目标\n",
    "* 理解什么是 Tool Use\n",
    "* 解释 Tool Use 的使用场景\n",
    "* 理解使用 Claude 进行 Tool Use 的高级流程"
   ]
  },
  {
   "cell_type": "markdown",
   "metadata": {
    "vscode": {
     "languageId": "raw"
    }
   },
   "source": [
    "## 什么是 Tool Use？\n",
    "\n",
    "Tool Use，也称为函数调用(function calling)，是指通过定义和调用外部工具或函数来扩展 Claude 能力的特性。我们可以为 Claude 提供一组预定义的工具，Claude 可以在任何时候调用这些工具。工具允许我们编写代码来执行特定的任务或计算，这些是 Claude 本身无法完成的。简而言之：Tool Use 是增强 Claude 功能的一种方式。\n",
    "\n",
    "通过 Tool Use，Claude 可以：\n",
    "- 执行复杂的数学计算\n",
    "- 访问外部数据库或API\n",
    "- 处理和转换数据\n",
    "- 与外部系统交互\n",
    "- 执行自定义业务逻辑\n"
   ]
  },
  {
   "cell_type": "markdown",
   "metadata": {
    "vscode": {
     "languageId": "raw"
    }
   },
   "source": [
    "## 为什么 Tool Use 很重要？\n",
    "\n",
    "Tool Use 是一个改变游戏规则的特性，它释放了 Claude 的真正潜力，开启了无限可能的世界。它是一个关键组件，可以显著提升你的应用程序的价值和影响力。\n",
    "\n",
    "* **扩展 Claude 的能力**\n",
    "  * Tool Use 允许你将 Claude 的能力扩展到其内置功能之外。通过定义和调用外部工具，你可以让 Claude 执行它本来无法完成的任务。这意味着你可以创建更强大、更灵活的应用程序，能够处理更广泛的用户需求和要求。\n",
    "\n",
    "* **与现有系统集成**\n",
    "  * Tool Use 实现了 Claude 与你现有系统、数据库或API之间的无缝集成。你可以定义与后端服务交互、从数据库检索数据或在应用程序中触发操作的工具。这种集成允许你在利用现有基础设施和数据的同时发挥 Claude 的力量。\n",
    "\n",
    "* **自动化复杂任务**\n",
    "  * 通过 Tool Use，你可以自动化涉及多个步骤或需要专门计算的复杂任务和工作流程。通过定义封装这些任务的工具，你可以简化流程，减少人工工作，提高效率。Claude 可以根据用户输入或预定义条件，在正确的时间智能地调用正确的工具。\n",
    "\n",
    "* **增强用户体验**\n",
    "  * Tool Use 可以显著增强应用程序的用户体验。通过为 Claude 提供相关工具的访问权限，你可以让它对用户查询提供更准确、更具上下文和个性化的响应。用户可以用自然语言与你的应用程序交互，Claude 可以利用工具提供丰富的信息或代表用户执行所需的操作。\n",
    "\n",
    "* **扩展和定制**\n",
    "  * 通过 Tool Use，你可以扩展和定制应用程序以满足用户不断变化的需求。随着用户群的增长或需求的变化，你可以轻松添加新工具或修改现有工具来扩展 Claude 的能力。这种灵活性允许你快速适应和迭代，确保你的应用程序保持相关性和竞争力。\n"
   ]
  },
  {
   "cell_type": "markdown",
   "metadata": {
    "vscode": {
     "languageId": "raw"
    }
   },
   "source": [
    "## 使用场景示例\n",
    "\n",
    "我们在客户中看到的使用 Tool Use 的一些通用主题包括：\n",
    "\n",
    "* **检索信息**\n",
    "  * 工具可用于从外部源获取数据，如数据库、API或Web服务。例如，工具可以根据用户输入检索天气信息、股票价格或新闻文章。\n",
    "\n",
    "* **执行计算**\n",
    "  * 工具可以执行可能超出 Claude 内置能力的复杂计算或数学运算。这可以包括财务计算、科学计算或统计分析。\n",
    "\n",
    "* **操作数据**\n",
    "  * 工具可用于处理、转换或操作各种格式的数据。这可以包括数据格式化、数据提取或数据转换等任务。\n",
    "\n",
    "* **与外部系统交互**\n",
    "  * 工具可以促进与外部系统或服务的交互，如发送电子邮件、触发通知或控制IoT设备。\n",
    "\n",
    "* **生成内容**\n",
    "  * 工具可以协助生成特定类型的内容，如基于用户输入或预定义模板的图像、图表或格式化文档。\n",
    "\n",
    "更具体的可能使用场景包括：\n",
    "\n",
    "* **企业数据集成**：将 Claude 与CRM、ERP和ITSM等企业系统集成，以检索客户数据、自动化工作流程并提供个性化支持。\n",
    "* **财务分析和报告**：使用 Claude 和工具分析财务数据、生成投资报告、评估风险并确保合规性。\n",
    "* **医疗诊断和治疗规划**：将 Claude 与电子健康记录(EHR)和医学知识库集成，协助医疗专业人员做出明智决策并创建个性化治疗计划。\n",
    "* **教育辅导和内容创建**：利用 Claude 结合教育资源和工具提供个性化辅导、生成学习材料并适应个人学习风格。\n",
    "* **客户支持自动化**：将 Claude 与知识库和支持票务系统集成，提供自动化客户支持、故障排除问题并改善响应时间。\n"
   ]
  },
  {
   "cell_type": "markdown",
   "metadata": {
    "vscode": {
     "languageId": "raw"
    }
   },
   "source": [
    "## Tool Use 如何工作\n",
    "\n",
    "让我们将注意力转向 Tool Use 实际上是如何工作的。首先要理解的最重要的事情是，Claude 本身并不*运行*任何代码。我们告诉 Claude 一组它可以要求我们调用的工具，然后我们的工作是实际运行底层工具代码并告诉 Claude 结果。\n",
    "\n",
    "请注意，Claude 没有访问任何内置的服务器端工具。所有工具都必须由你（用户）在每个API请求中明确提供。这意味着你定义可用工具、提供清晰的描述和输入模式，以及实现和执行工具逻辑，比如在 Claude 的请求下运行特定函数或查询API。这给了你对 Claude 可以使用的工具的完全控制和灵活性。\n",
    "\n",
    "具体来说，使用 Claude 的工具涉及以下步骤：\n",
    "\n",
    "1. **为 Claude 提供工具和用户提示：**（API请求）\n",
    "   * 定义你希望 Claude 访问的工具集，包括它们的名称、描述和输入模式。\n",
    "   * 提供可能需要使用一个或多个这些工具来回答的用户提示，例如\"1,984,135 乘以 9,343,116 等于多少？\"\n",
    "\n",
    "2. **Claude 使用工具：**（API响应）\n",
    "   * Claude 评估用户提示并决定是否有任何可用工具有助于用户的查询或任务。如果是，它还决定使用哪些工具以及使用什么输入。\n",
    "   * Claude 输出格式正确的工具使用请求。\n",
    "   * API响应将有一个 `stop_reason` 为 `tool_use`，表示 Claude 想要使用外部工具。\n",
    "\n",
    "3. **提取工具输入，运行代码，并返回结果：**（API请求）\n",
    "   * 在客户端，你应该从 Claude 的工具使用请求中提取工具名称和输入。\n",
    "   * 在客户端运行实际的工具代码。\n",
    "   * 通过继续对话并使用包含 `tool_result` 内容块的新用户消息将结果返回给 Claude。\n",
    "\n",
    "4. **Claude 使用工具结果来制定响应：**（API响应）\n",
    "   * 收到工具结果后，Claude 将使用该信息来制定对原始用户提示的最终响应。\n",
    "\n",
    "步骤（3）和（4）是可选的——对于某些工作流程，Claude 使用工具就是你需要的所有信息，你可能不需要将工具结果返回给 Claude。\n"
   ]
  },
  {
   "cell_type": "markdown",
   "metadata": {
    "vscode": {
     "languageId": "raw"
    }
   },
   "source": [
    "### 假设的 Tool Use 场景\n",
    "\n",
    "为了更好地理解 Tool Use 的流程，让我们想象我们正在构建一个聊天应用程序，允许用户与 Claude 谈论数学计算并执行复杂的算术运算。\n",
    "\n",
    "当然，Claude 无法执行复杂的数学计算，所以我们需要为 Claude 提供一个 `calculator` 工具来进行数学运算。\n"
   ]
  },
  {
   "cell_type": "markdown",
   "metadata": {
    "vscode": {
     "languageId": "raw"
    }
   },
   "source": [
    "下面是一个简单的图表，显示了我们的应用程序和 Claude 之间的信息流：\n",
    "\n",
    "![Calculator Tool Flow](images/calculator_diagram.png)\n"
   ]
  },
  {
   "cell_type": "markdown",
   "metadata": {
    "vscode": {
     "languageId": "raw"
    }
   },
   "source": [
    "### 过程的详细分解\n",
    "\n",
    "下面是 Tool Use 步骤的详细分解\n"
   ]
  },
  {
   "cell_type": "markdown",
   "metadata": {
    "vscode": {
     "languageId": "raw"
    }
   },
   "source": [
    "#### 步骤 0：编写工具功能\n",
    "\n",
    "在我们告诉 Claude 它可以访问特定工具之前，我们需要首先编写该工具的功能。在我们的 `calculator` 工具的情况下，我们可能会编写一个函数，期望一个数学表达式作为参数，然后计算并返回结果。就像这样：\n"
   ]
  },
  {
   "cell_type": "code",
   "execution_count": 1,
   "metadata": {},
   "outputs": [],
   "source": [
    "import re\n",
    "\n",
    "def calculate(expression):\n",
    "    \"\"\"\n",
    "    计算数学表达式并返回结果\n",
    "    \n",
    "    参数:\n",
    "        expression (str): 要计算的数学表达式\n",
    "    \n",
    "    返回:\n",
    "        str: 计算结果或错误信息\n",
    "    \"\"\"\n",
    "    # 移除表达式中的任何非数字或非运算符字符\n",
    "    expression = re.sub(r'[^0-9+\\-*/().]', '', expression)\n",
    "    \n",
    "    try:\n",
    "        # 使用内置的 eval() 函数计算表达式\n",
    "        result = eval(expression)\n",
    "        return str(result)\n",
    "    except (SyntaxError, ZeroDivisionError, NameError, TypeError, OverflowError):\n",
    "        return \"错误：无效的表达式\"\n"
   ]
  },
  {
   "cell_type": "markdown",
   "metadata": {
    "vscode": {
     "languageId": "raw"
    }
   },
   "source": [
    "如果这个函数被完全实现，我们用 `calculate(\"1984135 * 9343116\")` 调用它，我们可能会得到这样的返回值：\n"
   ]
  },
  {
   "cell_type": "code",
   "execution_count": null,
   "metadata": {},
   "outputs": [],
   "source": [
    "# 测试计算器函数\n",
    "result = calculate(\"1984135 * 9343116\")\n",
    "print(f\"计算结果: {result}\")\n"
   ]
  },
  {
   "cell_type": "markdown",
   "metadata": {
    "vscode": {
     "languageId": "raw"
    }
   },
   "source": [
    "#### 步骤 1：为 Claude 提供工具和用户提示（API请求）\n",
    "\n",
    "接下来，我们需要定义 `calculator` 工具，包括其名称、描述和输入模式。我们稍后会花更多时间定义工具，但这里是我们可以告诉 Claude 的假设 `calculator` 工具定义：\n"
   ]
  },
  {
   "cell_type": "code",
   "execution_count": null,
   "metadata": {},
   "outputs": [],
   "source": [
    "tools = [\n",
    "    {\n",
    "        \"name\": \"calculator\",\n",
    "        \"description\": \"执行基本算术运算的简单计算器。\",\n",
    "        \"input_schema\": {\n",
    "            \"type\": \"object\",\n",
    "            \"properties\": {\n",
    "                \"expression\": {\n",
    "                    \"type\": \"string\",\n",
    "                    \"description\": \"要计算的数学表达式（例如：'2 + 3 * 4'）。\"\n",
    "                }\n",
    "            },\n",
    "            \"required\": [\"expression\"]\n",
    "        }\n",
    "    }\n",
    "]\n",
    "\n",
    "print(\"工具定义已创建！\")\n"
   ]
  },
  {
   "cell_type": "markdown",
   "metadata": {
    "vscode": {
     "languageId": "raw"
    }
   },
   "source": [
    "接下来，我们会告诉 Claude 这个工具的存在，并发出可能需要使用这个工具的提示请求：\n"
   ]
  },
  {
   "cell_type": "code",
   "execution_count": null,
   "metadata": {},
   "outputs": [],
   "source": [
    "# 首先安装并导入必要的库\n",
    "%pip install anthropic python-dotenv\n"
   ]
  },
  {
   "cell_type": "code",
   "execution_count": null,
   "metadata": {},
   "outputs": [],
   "source": [
    "import anthropic\n",
    "import httpx\n",
    "import os\n",
    "from dotenv import load_dotenv\n",
    "\n",
    "# 加载环境变量\n",
    "load_dotenv()\n",
    "client = anthropic.Anthropic(\n",
    "  # 从环境变量读取 API 密钥\n",
    "  api_key=os.getenv(\"ANTHROPIC_API_KEY\"),\n",
    "  http_client=httpx.Client(\n",
    "    proxy=\"http://127.0.0.1:7890/\"  # 设置代理\n",
    "  )\n",
    ")\n",
    "MODEL_NAME = \"claude-3-opus-20240229\"\n",
    "\n",
    "# 创建与 Claude 的对话，包含工具定义\n",
    "response = client.messages.create(\n",
    "    model=MODEL_NAME,\n",
    "    messages=[{\"role\": \"user\", \"content\": \"1,984,135 乘以 9,343,116 等于多少？\"}],\n",
    "    max_tokens=500,\n",
    "    tools=tools  # type: ignore\n",
    ")\n",
    "\n",
    "print(\"API 请求已发送！\")  \n",
    "print(f\"响应停止原因: {response.stop_reason}\")\n",
    "print(f\"响应内容: {response.content}\")\n"
   ]
  },
  {
   "cell_type": "markdown",
   "metadata": {
    "vscode": {
     "languageId": "raw"
    }
   },
   "source": [
    "#### 步骤 2：Claude 请求使用工具（API响应）\n",
    "\n",
    "如果 Claude 决定需要使用工具，它会返回一个 `stop_reason` 为 `tool_use` 的响应。我们需要处理这个响应并提取工具使用信息：\n"
   ]
  },
  {
   "cell_type": "code",
   "execution_count": null,
   "metadata": {},
   "outputs": [],
   "source": [
    "# 检查 Claude 是否要使用工具\n",
    "if response.stop_reason == \"tool_use\":\n",
    "    # 从响应中找到工具使用块\n",
    "    tool_use = next(block for block in response.content if block.type == \"tool_use\")\n",
    "    tool_name = tool_use.name\n",
    "    tool_input = tool_use.input\n",
    "    \n",
    "    print(f\"Claude 想要使用工具: {tool_name}\")\n",
    "    print(f\"工具输入: {tool_input}\")\n",
    "    \n",
    "    # 步骤 3：运行工具并获取结果\n",
    "    if tool_name == \"calculator\":\n",
    "        # 类型检查忽略，因为我们知道这是字典类型\n",
    "        tool_result = calculate(tool_input[\"expression\"])  # type: ignore\n",
    "        print(f\"工具结果: {tool_result}\")\n",
    "else:\n",
    "    print(\"Claude 没有请求使用工具\")\n"
   ]
  },
  {
   "cell_type": "markdown",
   "metadata": {
    "vscode": {
     "languageId": "raw"
    }
   },
   "source": [
    "#### 步骤 4：将工具结果返回给 Claude（API请求）\n",
    "\n",
    "现在我们需要将工具结果发送回 Claude，让它制定最终响应：\n"
   ]
  },
  {
   "cell_type": "code",
   "execution_count": null,
   "metadata": {},
   "outputs": [],
   "source": [
    "# 如果工具被使用了，我们需要将结果发送回 Claude\n",
    "if response.stop_reason == \"tool_use\":\n",
    "    tool_use = next(block for block in response.content if block.type == \"tool_use\")\n",
    "    tool_result = calculate(tool_use.input[\"expression\"])  # type: ignore\n",
    "    \n",
    "    # 步骤 4：发送工具结果回 Claude\n",
    "    final_response = client.messages.create(\n",
    "        model=MODEL_NAME,\n",
    "        max_tokens=1000,\n",
    "        messages=[\n",
    "            {\"role\": \"user\", \"content\": \"1,984,135 乘以 9,343,116 等于多少？\"},\n",
    "            {\"role\": \"assistant\", \"content\": response.content},\n",
    "            {\n",
    "                \"role\": \"user\",\n",
    "                \"content\": [\n",
    "                    {\n",
    "                        \"type\": \"tool_result\",\n",
    "                        \"tool_use_id\": tool_use.id,\n",
    "                        \"content\": tool_result,\n",
    "                    }\n",
    "                ],\n",
    "            },\n",
    "        ],\n",
    "        tools=tools  # type: ignore\n",
    "    )\n",
    "    \n",
    "    # 提取最终文本响应\n",
    "    final_text = next(\n",
    "        (getattr(block, 'text', None) for block in final_response.content \n",
    "         if hasattr(block, \"text\")),\n",
    "        None,\n",
    "    )\n",
    "    print(f\"\\\\nClaude 的最终响应: {final_text}\")\n",
    "else:\n",
    "    print(\"没有工具被使用，直接显示响应\")\n"
   ]
  },
  {
   "cell_type": "markdown",
   "metadata": {
    "vscode": {
     "languageId": "raw"
    }
   },
   "source": [
    "## 完整的示例：创建一个聊天函数\n",
    "\n",
    "让我们创建一个完整的函数来处理整个 Tool Use 流程：\n"
   ]
  },
  {
   "cell_type": "code",
   "execution_count": 9,
   "metadata": {},
   "outputs": [],
   "source": [
    "def process_tool_call(tool_name, tool_input):\n",
    "    \"\"\"处理工具调用\"\"\"\n",
    "    if tool_name == \"calculator\":\n",
    "        return calculate(tool_input[\"expression\"])\n",
    "    return \"未知工具\"\n",
    "\n",
    "def chat_with_claude(user_message):\n",
    "    \"\"\"与 Claude 聊天，支持工具使用\"\"\"\n",
    "    print(f\"\\\\n{'='*50}\\\\n用户消息: {user_message}\\\\n{'='*50}\")\n",
    "\n",
    "    # 第一次API调用\n",
    "    message = client.messages.create(\n",
    "        model=MODEL_NAME,\n",
    "        max_tokens=4096,\n",
    "        messages=[{\"role\": \"user\", \"content\": user_message}],\n",
    "        tools=tools,  # type: ignore\n",
    "    )\n",
    "\n",
    "    print(f\"\\\\n初始响应:\")\n",
    "    print(f\"停止原因: {message.stop_reason}\")\n",
    "    print(f\"内容: {message.content}\")\n",
    "\n",
    "    if message.stop_reason == \"tool_use\":\n",
    "        # 找到工具使用块\n",
    "        tool_use = next(block for block in message.content if block.type == \"tool_use\")\n",
    "        tool_name = tool_use.name\n",
    "        tool_input = tool_use.input\n",
    "\n",
    "        print(f\"\\\\n使用的工具: {tool_name}\")\n",
    "        print(f\"工具输入: {tool_input}\")\n",
    "\n",
    "        # 执行工具\n",
    "        tool_result = process_tool_call(tool_name, tool_input)\n",
    "        print(f\"工具结果: {tool_result}\")\n",
    "\n",
    "        # 第二次API调用，返回工具结果\n",
    "        response = client.messages.create(\n",
    "            model=MODEL_NAME,\n",
    "            max_tokens=4096,\n",
    "            messages=[\n",
    "                {\"role\": \"user\", \"content\": user_message},\n",
    "                {\"role\": \"assistant\", \"content\": message.content},\n",
    "                {\n",
    "                    \"role\": \"user\",\n",
    "                    \"content\": [\n",
    "                        {\n",
    "                            \"type\": \"tool_result\",\n",
    "                            \"tool_use_id\": tool_use.id,\n",
    "                            \"content\": tool_result,\n",
    "                        }\n",
    "                    ],\n",
    "                },\n",
    "            ],\n",
    "            tools=tools,  # type: ignore\n",
    "        )\n",
    "    else:\n",
    "        response = message\n",
    "\n",
    "    # 提取最终响应\n",
    "    final_response = next(\n",
    "        (getattr(block, 'text', None) for block in response.content \n",
    "         if hasattr(block, \"text\")),\n",
    "        None,\n",
    "    )\n",
    "    print(f\"\\\\n最终响应: {final_response}\")\n",
    "    \n",
    "    return final_response\n"
   ]
  },
  {
   "cell_type": "markdown",
   "metadata": {
    "vscode": {
     "languageId": "raw"
    }
   },
   "source": [
    "## 测试我们的计算器工具\n",
    "\n",
    "现在让我们测试几个数学问题，看看 Claude 如何使用我们的计算器工具：\n"
   ]
  },
  {
   "cell_type": "code",
   "execution_count": null,
   "metadata": {},
   "outputs": [],
   "source": [
    "# 测试 1: 大数乘法\n",
    "chat_with_claude(\"1,984,135 乘以 9,343,116 等于多少？\")\n"
   ]
  },
  {
   "cell_type": "code",
   "execution_count": null,
   "metadata": {},
   "outputs": [],
   "source": [
    "# 测试 2: 复杂算术表达式\n",
    "chat_with_claude(\"计算 (12851 - 593) * 301 + 76\")\n"
   ]
  },
  {
   "cell_type": "code",
   "execution_count": null,
   "metadata": {},
   "outputs": [],
   "source": [
    "# 测试 3: 除法运算\n",
    "chat_with_claude(\"15910385 除以 193053 等于多少？\")\n"
   ]
  },
  {
   "cell_type": "markdown",
   "metadata": {
    "vscode": {
     "languageId": "raw"
    }
   },
   "source": [
    "## 总结\n",
    "\n",
    "在这个教程中，我们学习了：\n",
    "\n",
    "1. **什么是 Tool Use**: 扩展 Claude 能力的强大功能，允许它调用外部工具和函数。\n",
    "\n",
    "2. **Tool Use 的重要性**: 它能够：\n",
    "   - 扩展 Claude 的能力\n",
    "   - 与现有系统集成\n",
    "   - 自动化复杂任务\n",
    "   - 增强用户体验\n",
    "   - 提供扩展和定制的灵活性\n",
    "\n",
    "3. **Tool Use 的工作流程**:\n",
    "   - 步骤 0: 编写工具功能\n",
    "   - 步骤 1: 定义工具并发送给 Claude\n",
    "   - 步骤 2: Claude 决定是否使用工具\n",
    "   - 步骤 3: 执行工具并获取结果\n",
    "   - 步骤 4: 将结果返回给 Claude 生成最终响应\n",
    "\n",
    "4. **实际示例**: 通过计算器工具演示了完整的 Tool Use 流程。\n",
    "\n",
    "通过 Tool Use，我们可以让 Claude 执行原本无法完成的任务，如复杂的数学计算、数据库查询、API调用等，从而构建更强大和实用的AI应用程序。\n",
    "\n",
    "**注意**: 在实际应用中，应该避免使用 `eval()` 函数，因为它存在安全风险。这里仅用于演示目的。生产环境中应该使用更安全的数学表达式解析库。\n"
   ]
  }
 ],
 "metadata": {
  "kernelspec": {
   "display_name": "Python 3",
   "language": "python",
   "name": "python3"
  },
  "language_info": {
   "codemirror_mode": {
    "name": "ipython",
    "version": 3
   },
   "file_extension": ".py",
   "mimetype": "text/x-python",
   "name": "python",
   "nbconvert_exporter": "python",
   "pygments_lexer": "ipython3",
   "version": "3.11.9"
  }
 },
 "nbformat": 4,
 "nbformat_minor": 2
}
