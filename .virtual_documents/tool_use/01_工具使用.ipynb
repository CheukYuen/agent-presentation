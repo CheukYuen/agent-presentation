


























import re

def calculate(expression):
    """
    计算数学表达式并返回结果
    
    参数:
        expression (str): 要计算的数学表达式
    
    返回:
        str: 计算结果或错误信息
    """
    # 移除表达式中的任何非数字或非运算符字符
    expression = re.sub(r'[^0-9+\-*/().]', '', expression)
    
    try:
        # 使用内置的 eval() 函数计算表达式
        result = eval(expression)
        return str(result)
    except (SyntaxError, ZeroDivisionError, NameError, TypeError, OverflowError):
        return "错误：无效的表达式"






# 测试计算器函数
result = calculate("1984135 * 9343116")
print(f"计算结果: {result}")






tools = [
    {
        "name": "calculator",
        "description": "执行基本算术运算的简单计算器。",
        "input_schema": {
            "type": "object",
            "properties": {
                "expression": {
                    "type": "string",
                    "description": "要计算的数学表达式（例如：'2 + 3 * 4'）。"
                }
            },
            "required": ["expression"]
        }
    }
]

print("工具定义已创建！")






# 首先安装并导入必要的库
%pip install anthropic python-dotenv



import anthropic
import httpx
import os
from dotenv import load_dotenv

# 加载环境变量
load_dotenv()
client = anthropic.Anthropic(
  # 从环境变量读取 API 密钥
  api_key=os.getenv("ANTHROPIC_API_KEY"),
  http_client=httpx.Client(
    proxy="http://127.0.0.1:7890/"  # 设置代理
  )
)
MODEL_NAME = "claude-3-opus-20240229"

# 创建与 Claude 的对话，包含工具定义
response = client.messages.create(
    model=MODEL_NAME,
    messages=[{"role": "user", "content": "1,984,135 乘以 9,343,116 等于多少？"}],
    max_tokens=500,
    tools=tools  # type: ignore
)

print("API 请求已发送！")  
print(f"响应停止原因: {response.stop_reason}")
print(f"响应内容: {response.content}")






# 检查 Claude 是否要使用工具
if response.stop_reason == "tool_use":
    # 从响应中找到工具使用块
    tool_use = next(block for block in response.content if block.type == "tool_use")
    tool_name = tool_use.name
    tool_input = tool_use.input
    
    print(f"Claude 想要使用工具: {tool_name}")
    print(f"工具输入: {tool_input}")
    
    # 步骤 3：运行工具并获取结果
    if tool_name == "calculator":
        # 类型检查忽略，因为我们知道这是字典类型
        tool_result = calculate(tool_input["expression"])  # type: ignore
        print(f"工具结果: {tool_result}")
else:
    print("Claude 没有请求使用工具")






# 如果工具被使用了，我们需要将结果发送回 Claude
if response.stop_reason == "tool_use":
    tool_use = next(block for block in response.content if block.type == "tool_use")
    tool_result = calculate(tool_use.input["expression"])  # type: ignore
    
    # 步骤 4：发送工具结果回 Claude
    final_response = client.messages.create(
        model=MODEL_NAME,
        max_tokens=1000,
        messages=[
            {"role": "user", "content": "1,984,135 乘以 9,343,116 等于多少？"},
            {"role": "assistant", "content": response.content},
            {
                "role": "user",
                "content": [
                    {
                        "type": "tool_result",
                        "tool_use_id": tool_use.id,
                        "content": tool_result,
                    }
                ],
            },
        ],
        tools=tools  # type: ignore
    )
    
    # 提取最终文本响应
    final_text = next(
        (getattr(block, 'text', None) for block in final_response.content 
         if hasattr(block, "text")),
        None,
    )
    print(f"\\nClaude 的最终响应: {final_text}")
else:
    print("没有工具被使用，直接显示响应")






def process_tool_call(tool_name, tool_input):
    """处理工具调用"""
    if tool_name == "calculator":
        return calculate(tool_input["expression"])
    return "未知工具"

def chat_with_claude(user_message):
    """与 Claude 聊天，支持工具使用"""
    print(f"\\n{'='*50}\\n用户消息: {user_message}\\n{'='*50}")

    # 第一次API调用
    message = client.messages.create(
        model=MODEL_NAME,
        max_tokens=4096,
        messages=[{"role": "user", "content": user_message}],
        tools=tools,  # type: ignore
    )

    print(f"\\n初始响应:")
    print(f"停止原因: {message.stop_reason}")
    print(f"内容: {message.content}")

    if message.stop_reason == "tool_use":
        # 找到工具使用块
        tool_use = next(block for block in message.content if block.type == "tool_use")
        tool_name = tool_use.name
        tool_input = tool_use.input

        print(f"\\n使用的工具: {tool_name}")
        print(f"工具输入: {tool_input}")

        # 执行工具
        tool_result = process_tool_call(tool_name, tool_input)
        print(f"工具结果: {tool_result}")

        # 第二次API调用，返回工具结果
        response = client.messages.create(
            model=MODEL_NAME,
            max_tokens=4096,
            messages=[
                {"role": "user", "content": user_message},
                {"role": "assistant", "content": message.content},
                {
                    "role": "user",
                    "content": [
                        {
                            "type": "tool_result",
                            "tool_use_id": tool_use.id,
                            "content": tool_result,
                        }
                    ],
                },
            ],
            tools=tools,  # type: ignore
        )
    else:
        response = message

    # 提取最终响应
    final_response = next(
        (getattr(block, 'text', None) for block in response.content 
         if hasattr(block, "text")),
        None,
    )
    print(f"\\n最终响应: {final_response}")
    
    return final_response






# 测试 1: 大数乘法
chat_with_claude("1,984,135 乘以 9,343,116 等于多少？")



# 测试 2: 复杂算术表达式
chat_with_claude("计算 (12851 - 593) * 301 + 76")






# 测试 3: 除法运算
chat_with_claude("15910385 除以 193053 等于多少？")



chat_with_claude("15910385 除以 193053 等于多少？")










