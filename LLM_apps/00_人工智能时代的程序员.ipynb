{
 "cells": [
  {
   "cell_type": "markdown",
   "id": "3b822f27",
   "metadata": {},
   "source": [
    "# Part1:  人工智能时代的程序员"
   ]
  },
  {
   "cell_type": "markdown",
   "id": "be649fda",
   "metadata": {},
   "source": [
    "## 智能化分级\n",
    "![终端智能化分级标准](images/终端智能化分级标准.png)"
   ]
  },
  {
   "cell_type": "markdown",
   "id": "150c4be8",
   "metadata": {
    "jupyter": {
     "source_hidden": true
    }
   },
   "source": [
    "## L3爆发巨大商业价值\n",
    "\n",
    "![cursor-arr-5亿](images/cursor-arr-5亿.jpg)\n",
    "\n",
    "#### OpenRouter 使用量\n",
    "\n",
    "![openrouter](images/openrouter.png)"
   ]
  },
  {
   "cell_type": "markdown",
   "id": "44a2267b",
   "metadata": {},
   "source": [
    "## BOA Erica\n",
    "![BOA-1](images/BOA-1.jpg)\n",
    "![BOA-2](images/BOA-2.jpg)\n",
    "\n",
    "1. Erica 采用基于规则引擎和传统 NLP 的方案，以确保用户金融数据在受控环境中处理，满足隐私与合规要求。\n",
    "2. 其系统响应速度快、资源消耗低、成本可控，便于高并发场景下的稳定运行和运维。\n",
    "3. 通过深度定制银行业务流程和可解释的决策路径，最大限度规避通用 LLM 在金融场景中的知识盲点与风险。"
   ]
  },
  {
   "cell_type": "markdown",
   "id": "2af91f0a",
   "metadata": {},
   "source": [
    "## Robinhood Cortex \n",
    "![robinhood](images/robinhood.png)\n",
    "![robinhood2](images/robinhood2.png)\n",
    "\n",
    "1. Robinhood Strategies 由专职团队根据风险偏好与投资期限主动管理股票/ETF组合，年费0.25%，Gold会员最高封顶250 USD，资产规模越大实际费率越低（25 万仅0.1%，50 万仅0.05%）。\n",
    "\n",
    "2. Robinhood Cortex 利用 AI 在“Stock Digests”中实时生成影响个股涨跌的新闻与市场因素摘要，并通过“Trade Builder”将用户观点自动转化为具体交易或期权策略。\n",
    "\n",
    "3. 两者协同构成端到端智能化投资生态，从长期财富管理到即时交易决策，全流程运用 AI 提升用户投资效率与决策质量。"
   ]
  },
  {
   "cell_type": "markdown",
   "id": "1e54950b",
   "metadata": {},
   "source": [
    "## **OpenAI Deep Research**：深度研究助手\n",
    "\n",
    "1. OpenAI Deep Research 是一款集成大模型和实时网络检索的“深度研究助手”，可在海量文献与网页中快速查找、筛选和汇总关键信息。\n",
    "\n",
    "2. 它能够根据用户需求生成结构化报告、大纲和可视化表格，并提供准确引用与出处，显著提升研究效率与决策质量。\n",
    "\n",
    "3. 通过与 AI 智能体无缝集成，Deep Research 支持多轮交互与迭代优化，助力从学术调查到市场分析的全流程深度洞察。"
   ]
  },
  {
   "cell_type": "markdown",
   "id": "e5ddee4f",
   "metadata": {},
   "source": [
    "## **Google NotebookLM**：智能笔记系统\n",
    "Google NotebookLM 利用大模型将个人笔记与文档转化为可交互的知识库，自动生成摘要并即时回答用户提问。\n",
    "\n",
    "它支持跨文档检索与分析，可快速提取关键信息、生成大纲和可视化表格，助力深度研究与知识组织。\n",
    "\n",
    "与 AI 智能体无缝集成，NotebookLM 可多轮迭代优化，为学习、调研和决策提供高效、全流程的智能支持。\n",
    "\n"
   ]
  }
 ],
 "metadata": {
  "kernelspec": {
   "display_name": "Python 3 (ipykernel)",
   "language": "python",
   "name": "python3"
  },
  "language_info": {
   "codemirror_mode": {
    "name": "ipython",
    "version": 3
   },
   "file_extension": ".py",
   "mimetype": "text/x-python",
   "name": "python",
   "nbconvert_exporter": "python",
   "pygments_lexer": "ipython3",
   "version": "3.11.11"
  }
 },
 "nbformat": 4,
 "nbformat_minor": 5
}
