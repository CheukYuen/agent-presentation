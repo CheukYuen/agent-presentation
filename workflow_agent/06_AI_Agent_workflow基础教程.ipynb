# AI Agent Workflow 基础教程（15分钟精简版）

## 🎯 学习目标
- **深度理解 AI Agent vs Workflow 核心定义**
- **掌握银行场景下的智能代理设计原则**  
- **学会构建简单、透明、稳健的 Agent 系统**
- **实践银行业务中的实际应用场景**

## 📊 课程结构
| 时间 | 内容 | 重点 |
|------|------|------|
| 0-3分钟 | 核心定义对比 | Agent vs Workflow 本质区别 |
| 3-6分钟 | 设计模式精要 | 关键模式快速掌握 |
| 6-10分钟 | Workflow实战 | 资讯摘要流程实现 |
| 10-14分钟 | Agent实战 | 交易分析智能体构建 |
| 14-15分钟 | 总结与实践 | 银行应用最佳实践 |

## ⚠️ 合规声明
**本教程所有投资分析内容仅供学习参考，不构成投资建议。银行实际应用中，所有交易决策必须经过严格的风控审批流程。**

### 基于 Anthropic 官方最佳实践
> 参考资料：[Building Effective Agents](https://www.anthropic.com/engineering/building-effective-agents)